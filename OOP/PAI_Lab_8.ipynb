{
  "cells": [
    {
      "cell_type": "markdown",
      "metadata": {
        "id": "nb-owVUmlx2J"
      },
      "source": [
        "# NUMPY (Numerical Python)\n",
        "\n"
      ]
    },
    {
      "cell_type": "code",
      "source": [],
      "metadata": {
        "id": "UdVN3vImpPVh"
      },
      "execution_count": null,
      "outputs": []
    },
    {
      "cell_type": "markdown",
      "metadata": {
        "id": "dQeCukHvlx2N"
      },
      "source": [
        "<b>What are numpy arrays ?</b>\n",
        "\n",
        "NumPy is a Python package that stands for ‘Numerical Python’. It is the core library for scientific computing, which contains a powerful n-dimensional array object."
      ]
    },
    {
      "cell_type": "markdown",
      "metadata": {
        "id": "PqZvI8TAlx2N"
      },
      "source": [
        "<b>Where is NumPy used?</b>\n",
        "\n",
        "Python NumPy arrays provide tools for integrating C, C++, etc. It is also useful in linear algebra, random number capability etc. NumPy array can also be used as an efficient multi-dimensional container for generic data. Now, let me tell you what exactly is a Python NumPy array."
      ]
    },
    {
      "cell_type": "markdown",
      "metadata": {
        "id": "3C_GvNeelx2O"
      },
      "source": [
        "<b>Python NumPy Array:</b>\n",
        "\n",
        "Numpy array is a powerful N-dimensional array object which is in the form of rows and columns. We can initialize NumPy arrays from nested Python lists and access it elements. In order to perform these NumPy operations, the next question which will come in your mind is:\n",
        "\n",
        "<b>How do I install NumPy?</b>\n",
        "\n",
        "To install Python NumPy, go to your command prompt and type “pip install numpy”. Once the installation is completed, go to your IDE (For example: PyCharm) and simply import it by typing: “import numpy as np”\n",
        "\n",
        "Moving ahead in python numpy tutorial, let us understand what exactly is a multi-dimensional numPy array."
      ]
    },
    {
      "cell_type": "markdown",
      "metadata": {
        "id": "smbMWWpelx2O"
      },
      "source": [
        "# Python NumPy Array v/s List\n",
        "\n",
        "### Why NumPy over List?"
      ]
    },
    {
      "cell_type": "markdown",
      "metadata": {
        "id": "Zm6YbD7Clx2O"
      },
      "source": [
        "We use python NumPy array instead of a list because of the below three reasons:\n",
        "\n",
        "- Less Memory\n",
        "- Fast\n",
        "- Convenient"
      ]
    },
    {
      "cell_type": "markdown",
      "metadata": {
        "id": "CnzPGi2Plx2P"
      },
      "source": [
        "The very first reason to choose python NumPy array is that it occupies less memory as compared to list. Then, it is pretty fast in terms of execution and at the same time, it is very convenient to work with NumPy. So these are the major advantages that Python NumPy array has over list. Don’t worry, I am going to prove the above points one by one practically in PyCharm. Consider the below example:"
      ]
    },
    {
      "cell_type": "code",
      "source": [
        "np.array()"
      ],
      "metadata": {
        "id": "7g-8tzUAUCW7"
      },
      "execution_count": null,
      "outputs": []
    },
    {
      "cell_type": "code",
      "execution_count": null,
      "metadata": {
        "id": "Ft2nTvHolx2P",
        "outputId": "ddaa3570-fc53-45c4-81e3-c278dfdd26fe",
        "colab": {
          "base_uri": "https://localhost:8080/"
        }
      },
      "outputs": [
        {
          "output_type": "stream",
          "name": "stdout",
          "text": [
            "Memory allocated by List =  28000\n",
            "Memory allocated by Numpy array =  8000\n"
          ]
        }
      ],
      "source": [
        "# this code is just to show that python numpy arrays take less memory as compared to python lists\n",
        "import numpy as np\n",
        "\n",
        "import time\n",
        "import sys\n",
        "S= range(1000)\n",
        "print(\"Memory allocated by List = \",sys.getsizeof(5)*len(S))\n",
        "\n",
        "D= np.arange(1000)\n",
        "print(\"Memory allocated by Numpy array = \",D.size*D.itemsize)"
      ]
    },
    {
      "cell_type": "code",
      "source": [
        "# this code is just to show that python numpy arrays take less memory as compared to python lists\n",
        "import numpy as np\n",
        "\n",
        "import time\n",
        "import sys\n",
        "S= [1,2,3,4,5,6]\n",
        "print(\"Memory allocated by List = \",sys.getsizeof(5)*len(S))\n",
        "\n",
        "D= np.array([1,2,3,4,5,6])\n",
        "print(\"Memory allocated by Numpy array = \",D.size*D.itemsize)"
      ],
      "metadata": {
        "id": "d47g3oY9pRJS",
        "colab": {
          "base_uri": "https://localhost:8080/"
        },
        "outputId": "83776934-9af4-478a-a7f6-80fb9f367326"
      },
      "execution_count": null,
      "outputs": [
        {
          "output_type": "stream",
          "name": "stdout",
          "text": [
            "Memory allocated by List =  168\n",
            "Memory allocated by Numpy array =  48\n"
          ]
        }
      ]
    },
    {
      "cell_type": "code",
      "execution_count": null,
      "metadata": {
        "id": "ae8zurEulx2Q",
        "outputId": "f6e7b2c3-93f5-48af-9df2-ec32a779e548",
        "colab": {
          "base_uri": "https://localhost:8080/"
        }
      },
      "outputs": [
        {
          "output_type": "stream",
          "name": "stdout",
          "text": [
            "List time in milli_second =  262.279748916626\n",
            "[      0       2       4 ... 1999994 1999996 1999998]\n",
            "Numpy time in milli_second =  30.640363693237305\n"
          ]
        }
      ],
      "source": [
        "# this code is just to show that python numpy arrays take less time as cocmpared to python lists\n",
        "import numpy as np\n",
        "import time\n",
        "import sys\n",
        "\n",
        "SIZE = 1000000\n",
        "\n",
        "L1= range(SIZE)\n",
        "L2= range(SIZE)\n",
        "A1= np.arange(SIZE)\n",
        "A2=np.arange(SIZE)\n",
        "\n",
        "start= time.time()\n",
        "result=[(x+y) for x,y in zip(L1,L2)]\n",
        "print(\"List time in milli_second = \",(time.time()-start)*1000)\n",
        "\n",
        "start=time.time()\n",
        "result= A1+A2\n",
        "print(result)\n",
        "print(\"Numpy time in milli_second = \",(time.time()-start)*1000)"
      ]
    },
    {
      "cell_type": "markdown",
      "metadata": {
        "id": "jdz8KDQ_lx2R"
      },
      "source": [
        "Now, if you noticed we had run a ‘for’ loop for a list which returns the concatenation of both the lists whereas for numpy arrays, we have just added the two array by simply printing A1+A2. That’s why working with numpy is much easier and convenient when compared to the lists.\n",
        "\n",
        "Therefore, the above examples proves the point as to why you should go for python numpy array rather than a list!"
      ]
    },
    {
      "cell_type": "markdown",
      "metadata": {
        "id": "SRnzPNLolx2R"
      },
      "source": [
        "<b>How do I start NumPy?\n",
        "\n",
        "Single-dimensional Numpy Array: </b>"
      ]
    },
    {
      "cell_type": "code",
      "execution_count": null,
      "metadata": {
        "id": "ZgWT8Q61lx2R",
        "outputId": "e7bd8e55-86b8-4662-a1da-03f41972e968"
      },
      "outputs": [
        {
          "name": "stdout",
          "output_type": "stream",
          "text": [
            "One dimensional [1 2 3]\n"
          ]
        }
      ],
      "source": [
        "# Single dimensional numpy array\n",
        "import numpy as np\n",
        "a=np.array([1,2,3])\n",
        "print(\"One dimensional\",a)"
      ]
    },
    {
      "cell_type": "markdown",
      "metadata": {
        "id": "BSfaYoKylx2S"
      },
      "source": [
        "<b> Multi-dimensional Numpy Array: </b>"
      ]
    },
    {
      "cell_type": "code",
      "execution_count": null,
      "metadata": {
        "id": "gmlJOYpdlx2S",
        "outputId": "44ff9998-dd7d-4682-c98c-7a46fcd67d3d"
      },
      "outputs": [
        {
          "name": "stdout",
          "output_type": "stream",
          "text": [
            "two dimensional\n",
            "\n",
            " [[1 2 3]\n",
            " [4 5 6]]\n",
            "\n",
            "\n",
            "three dimensional\n",
            "\n",
            " [[[1 2 3]\n",
            "  [4 5 6]]\n",
            "\n",
            " [[1 2 3]\n",
            "  [4 5 6]]]\n"
          ]
        }
      ],
      "source": [
        "#two-dimensional numpy array\n",
        "a=np.array([[1,2,3],[4,5,6]])\n",
        "print(\"two dimensional\\n\\n\",a)\n",
        "\n",
        "#three-dimensional numpy array\n",
        "a = np.array([[[1, 2, 3], [4, 5, 6]], [[1, 2, 3], [4, 5, 6]]])\n",
        "print(\"\\n\\nthree dimensional\\n\\n\",a)\n"
      ]
    },
    {
      "cell_type": "markdown",
      "metadata": {
        "id": "FsDDR5nylx2S"
      },
      "source": [
        "\n",
        "<b>No. of dimensions using ndim:</b>\n",
        "\n",
        "NumPy Arrays provides the ndim attribute that returns an integer that tells us how many dimensions the array have."
      ]
    },
    {
      "cell_type": "code",
      "execution_count": null,
      "metadata": {
        "id": "ApIFruXHlx2S",
        "outputId": "c1d83d82-da4b-4d91-c5ad-42abe5cd60f7"
      },
      "outputs": [
        {
          "name": "stdout",
          "output_type": "stream",
          "text": [
            "0\n",
            "1\n",
            "2\n",
            "3\n"
          ]
        }
      ],
      "source": [
        "# how to check dimensions using ndim\n",
        "import numpy as np\n",
        "\n",
        "a = np.array(42)\n",
        "b = np.array([1, 2, 3, 4, 5])\n",
        "c = np.array([[1, 2, 3], [4, 5, 6]])\n",
        "d = np.array([[[1, 2, 3], [4, 5, 6]], [[1, 2, 3], [4, 5, 6]]])\n",
        "\n",
        "print(a.ndim)\n",
        "print(b.ndim)\n",
        "print(c.ndim)\n",
        "print(d.ndim)"
      ]
    },
    {
      "cell_type": "code",
      "execution_count": null,
      "metadata": {
        "id": "ms-FSxg4lx2T",
        "outputId": "c71ffb6d-aa54-4e9a-ad83-baa43e767501"
      },
      "outputs": [
        {
          "name": "stdout",
          "output_type": "stream",
          "text": [
            "[[[[[1 2 3 4]]]]]\n",
            "number of dimensions : 5\n"
          ]
        }
      ],
      "source": [
        "#create an array with 5 dimensions and verify using ndim that it has 5 dimensions\n",
        "\n",
        "import numpy as np\n",
        "\n",
        "arr = np.array([1, 2, 3, 4], ndmin=5)\n",
        "\n",
        "print(arr)\n",
        "print('number of dimensions :', arr.ndim)"
      ]
    },
    {
      "cell_type": "code",
      "execution_count": null,
      "metadata": {
        "id": "uS-exI_Ulx2T",
        "outputId": "57124058-4fa0-4eaa-d089-c2e719d0aa5c"
      },
      "outputs": [
        {
          "name": "stdout",
          "output_type": "stream",
          "text": [
            "Original List: [12.23, 13.32, 100, 36.32]\n",
            "One-dimensional NumPy array:  [ 12.23  13.32 100.    36.32]\n"
          ]
        }
      ],
      "source": [
        "#Converting list to numpy array\n",
        "\n",
        "import numpy as np\n",
        "l = [12.23, 13.32, 100, 36.32]\n",
        "print(\"Original List:\",l)\n",
        "a = np.array(l)\n",
        "print(\"One-dimensional NumPy array: \",a)"
      ]
    },
    {
      "cell_type": "code",
      "execution_count": null,
      "metadata": {
        "id": "xf-GG4A5lx2T",
        "outputId": "27b511b1-1f64-4e46-faef-1a98c3b06973"
      },
      "outputs": [
        {
          "name": "stdout",
          "output_type": "stream",
          "text": [
            "Original array:\n",
            "[10, 20, 30]\n",
            "After append values to the end of the array:\n",
            "[10 20 30 40 50 60 70 80 90]\n"
          ]
        }
      ],
      "source": [
        "# how to append values to numpy array\n",
        "\n",
        "import numpy as np\n",
        "x = [10, 20, 30]\n",
        "print(\"Original array:\")\n",
        "print(x)\n",
        "x = np.append(x, [[40, 50, 60], [70, 80, 90]])\n",
        "print(\"After append values to the end of the array:\")\n",
        "print(x)"
      ]
    },
    {
      "cell_type": "code",
      "execution_count": null,
      "metadata": {
        "id": "t84RWIzilx2U",
        "outputId": "f0d0138f-1b3c-4e19-d6cb-fb3164dfcbb7"
      },
      "outputs": [
        {
          "name": "stdout",
          "output_type": "stream",
          "text": [
            "Array1:  [ 0 10 20 40 60]\n",
            "Array2:  [10, 30, 40]\n",
            "Common values between two arrays:\n",
            "[10 40]\n"
          ]
        }
      ],
      "source": [
        "# to find common values between two numpy arrays\n",
        "\n",
        "import numpy as np\n",
        "array1 = np.array([0, 10, 20, 40, 60])\n",
        "print(\"Array1: \",array1)\n",
        "array2 = [10, 30, 40]\n",
        "print(\"Array2: \",array2)\n",
        "print(\"Common values between two arrays:\")\n",
        "print(np.intersect1d(array1, array2))"
      ]
    },
    {
      "cell_type": "code",
      "execution_count": null,
      "metadata": {
        "id": "Ff5k_-0Qlx2U",
        "outputId": "2f58dd98-fe9b-4b3e-dede-8364462b0be1"
      },
      "outputs": [
        {
          "name": "stdout",
          "output_type": "stream",
          "text": [
            "Matrix b : \n",
            " [0 0]\n",
            "\n",
            "Matrix a : \n",
            " [[0 0]\n",
            " [0 0]]\n",
            "\n",
            "Matrix c : \n",
            " [[0. 0. 0.]\n",
            " [0. 0. 0.]\n",
            " [0. 0. 0.]]\n"
          ]
        }
      ],
      "source": [
        "#if you want to create numpy array of zeros then :\n",
        "\n",
        "# Python Program illustrating\n",
        "# numpy.zeros method\n",
        "\n",
        "import numpy as np\n",
        "\n",
        "b = np.zeros(2, dtype = int)\n",
        "print(\"Matrix b : \\n\", b)\n",
        "\n",
        "a = np.zeros([2, 2], dtype = int)\n",
        "print(\"\\nMatrix a : \\n\", a)\n",
        "\n",
        "c = np.zeros([3, 3])\n",
        "print(\"\\nMatrix c : \\n\", c)"
      ]
    },
    {
      "cell_type": "code",
      "execution_count": null,
      "metadata": {
        "id": "g379FJALlx2U",
        "outputId": "03a9d78e-efcf-4b84-e0a0-212c0557094c"
      },
      "outputs": [
        {
          "name": "stdout",
          "output_type": "stream",
          "text": [
            "Matrix b : \n",
            " [1 1]\n",
            "\n",
            "Matrix a : \n",
            " [[1 1]\n",
            " [1 1]]\n",
            "\n",
            "Matrix c : \n",
            " [[1. 1. 1.]\n",
            " [1. 1. 1.]\n",
            " [1. 1. 1.]]\n"
          ]
        }
      ],
      "source": [
        "#if you want to create numpy array of ones then :\n",
        "\n",
        "# Python Program illustrating\n",
        "# numpy.ones method\n",
        "\n",
        "import numpy as np\n",
        "\n",
        "b = np.ones(2, dtype = int)\n",
        "print(\"Matrix b : \\n\", b)\n",
        "\n",
        "a = np.ones([2, 2], dtype = int)\n",
        "print(\"\\nMatrix a : \\n\", a)\n",
        "\n",
        "c = np.ones([3, 3])\n",
        "print(\"\\nMatrix c : \\n\", c)"
      ]
    },
    {
      "cell_type": "code",
      "execution_count": null,
      "metadata": {
        "id": "3g2ROdENlx2V",
        "outputId": "2525a25d-631f-4717-b5c0-70eb1071d5de",
        "colab": {
          "base_uri": "https://localhost:8080/"
        }
      },
      "outputs": [
        {
          "output_type": "stream",
          "name": "stdout",
          "text": [
            "3x3 matrix:\n",
            "[[1. 0. 0. 0.]\n",
            " [0. 1. 0. 0.]\n",
            " [0. 0. 1. 0.]\n",
            " [0. 0. 0. 1.]]\n"
          ]
        }
      ],
      "source": [
        "# to create a 3x3 identity matrix\n",
        "\n",
        "import numpy as np\n",
        "array_2D=np.identity(4)\n",
        "print('3x3 matrix:')\n",
        "print(array_2D)"
      ]
    },
    {
      "cell_type": "code",
      "execution_count": null,
      "metadata": {
        "id": "nm2NYnbalx2V",
        "outputId": "967762e5-f6e2-4e5b-f32e-499d6c221900"
      },
      "outputs": [
        {
          "name": "stdout",
          "output_type": "stream",
          "text": [
            "[[1. 0. 0.]\n",
            " [0. 1. 0.]\n",
            " [0. 0. 1.]]\n",
            "[[1. 0. 0. 0.]\n",
            " [0. 1. 0. 0.]\n",
            " [0. 0. 1. 0.]]\n"
          ]
        }
      ],
      "source": [
        "# creating identity matrix with diagonals elements 1 and all other are zero\n",
        "\n",
        "import numpy as np\n",
        "x = np.eye(3)\n",
        "print(x)\n",
        "\n",
        "y = np.eye(3,4)\n",
        "print(y)\n"
      ]
    },
    {
      "cell_type": "code",
      "execution_count": null,
      "metadata": {
        "id": "azGunQ47lx2V",
        "outputId": "95b72b6e-6d17-45c2-88ad-3de3a1b7897d"
      },
      "outputs": [
        {
          "name": "stdout",
          "output_type": "stream",
          "text": [
            "[[1 0 0 0 0]\n",
            " [0 2 0 0 0]\n",
            " [0 0 3 0 0]\n",
            " [0 0 0 4 0]\n",
            " [0 0 0 0 5]]\n"
          ]
        }
      ],
      "source": [
        "# program to create a 5x5 zero matrix with elements on the main diagonal equal to 1, 2, 3, 4, 5.\n",
        "\n",
        "import numpy as np\n",
        "x = np.diag([1, 2, 3, 4, 5])\n",
        "print(x)"
      ]
    },
    {
      "cell_type": "code",
      "execution_count": null,
      "metadata": {
        "id": "5BOiPU1Olx2V",
        "outputId": "01b7b561-1c7d-49e0-f366-219b67714357",
        "colab": {
          "base_uri": "https://localhost:8080/"
        }
      },
      "outputs": [
        {
          "output_type": "stream",
          "name": "stdout",
          "text": [
            "Original array\n",
            "[ 1.  0. nan  3.]\n",
            "Test element-wise for NaN:\n",
            "1\n"
          ]
        }
      ],
      "source": [
        "# to check if any value is nan (null) in numpy array using np.isnan()\n",
        "\n",
        "import numpy as np\n",
        "a = np.array([1, 0, np.nan, 3])\n",
        "print(\"Original array\")\n",
        "print(a)\n",
        "print(\"Test element-wise for NaN:\")\n",
        "print(np.isnan(a))"
      ]
    },
    {
      "cell_type": "markdown",
      "metadata": {
        "id": "Ot4r218ilx2V"
      },
      "source": [
        "### Creating Numpy arrays using arange function"
      ]
    },
    {
      "cell_type": "code",
      "execution_count": null,
      "metadata": {
        "id": "TLKFCKrmlx2W",
        "outputId": "fb60e948-0c61-4493-e3af-799e8ce59ec0"
      },
      "outputs": [
        {
          "name": "stdout",
          "output_type": "stream",
          "text": [
            "[0 1 2]\n",
            "[0. 1. 2.]\n",
            "[3 4 5 6]\n",
            "[3 5]\n",
            "[1 3]\n"
          ]
        }
      ],
      "source": [
        "# \"arange of numpy array\" is similar to \"range of list\"\n",
        "\n",
        "# np.arange(starting,ending,step)\n",
        "\n",
        "print(np.arange(3))\n",
        "print(np.arange(3.0))\n",
        "print(np.arange(3,7))\n",
        "print(np.arange(3,7,2))\n",
        "\n",
        "print(np.arange(1,4,2))\n"
      ]
    },
    {
      "cell_type": "code",
      "execution_count": null,
      "metadata": {
        "id": "Fi1QklKKlx2W",
        "outputId": "8ff11887-c276-4bf1-ad12-48e5f43b8d0f"
      },
      "outputs": [
        {
          "name": "stdout",
          "output_type": "stream",
          "text": [
            "[[10 11 12 13]\n",
            " [14 15 16 17]\n",
            " [18 19 20 21]]\n"
          ]
        }
      ],
      "source": [
        "#how to create a multi-dimensional array using arange\n",
        "#it will create array having 3 rows and 4 columns with elements from 10 to 21\n",
        "\n",
        "a = np.arange(10,22).reshape((3, 4))\n",
        "print(a)"
      ]
    },
    {
      "cell_type": "markdown",
      "metadata": {
        "id": "oiouD8_flx2W"
      },
      "source": [
        "### Access Array Elements"
      ]
    },
    {
      "cell_type": "code",
      "execution_count": null,
      "metadata": {
        "id": "MRUWIaTrlx2W",
        "outputId": "3f79ed2e-e14d-44b1-bc88-d6c003d3bc3b"
      },
      "outputs": [
        {
          "name": "stdout",
          "output_type": "stream",
          "text": [
            "1\n"
          ]
        }
      ],
      "source": [
        "#get first element\n",
        "\n",
        "import numpy as np\n",
        "\n",
        "arr = np.array([1, 2, 3, 4])\n",
        "\n",
        "print(arr[0])"
      ]
    },
    {
      "cell_type": "code",
      "execution_count": null,
      "metadata": {
        "id": "Q3ezRkIelx2W",
        "outputId": "318a2955-99e1-46f4-bea3-7a21ff9aeaa2"
      },
      "outputs": [
        {
          "name": "stdout",
          "output_type": "stream",
          "text": [
            "7\n"
          ]
        }
      ],
      "source": [
        "#get third and forth and add them\n",
        "\n",
        "import numpy as np\n",
        "\n",
        "arr = np.array([1, 2, 3, 4])\n",
        "\n",
        "print(arr[2] + arr[3])"
      ]
    },
    {
      "cell_type": "code",
      "execution_count": null,
      "metadata": {
        "id": "ezPJBWQRlx2W",
        "outputId": "3ffda501-294c-45c6-ecc8-1e997131f10b"
      },
      "outputs": [
        {
          "name": "stdout",
          "output_type": "stream",
          "text": [
            "2nd element on 1st row:  2\n"
          ]
        }
      ],
      "source": [
        "#get element on first row, second column\n",
        "\n",
        "import numpy as np\n",
        "\n",
        "arr = np.array([[1,2,3,4,5], [6,7,8,9,10]])\n",
        "\n",
        "print('2nd element on 1st row: ', arr[0, 1])"
      ]
    },
    {
      "cell_type": "code",
      "execution_count": null,
      "metadata": {
        "id": "QPrbvZ5alx2W",
        "outputId": "55a48280-45c4-4a69-832b-30cafed680ea"
      },
      "outputs": [
        {
          "name": "stdout",
          "output_type": "stream",
          "text": [
            "[[[ 1  2  3]\n",
            "  [ 4  5  6]]\n",
            "\n",
            " [[ 7  8  9]\n",
            "  [10 11 12]]]\n",
            "6\n"
          ]
        }
      ],
      "source": [
        "# access third element of second array of first array\n",
        "\n",
        "import numpy as np\n",
        "\n",
        "arr = np.array([[[1, 2, 3], [4, 5, 6]], [[7, 8, 9], [10, 11, 12]]])\n",
        "\n",
        "print(arr)\n",
        "print(arr[0, 1, 2])"
      ]
    },
    {
      "cell_type": "markdown",
      "metadata": {
        "id": "-gP8bltvlx2X"
      },
      "source": [
        "Above Example Explained:\n",
        "\n",
        "arr[0, 1, 2] prints the value 6.\n",
        "\n",
        "And this is why:\n",
        "\n",
        "The first number represents the first dimension, which contains two arrays:\n",
        "[[1, 2, 3], [4, 5, 6]]\n",
        "and:\n",
        "[[7, 8, 9], [10, 11, 12]]\n",
        "Since we selected 0, we are left with the first array:\n",
        "[[1, 2, 3], [4, 5, 6]]\n",
        "\n",
        "The second number represents the second dimension, which also contains two arrays:\n",
        "[1, 2, 3]\n",
        "and:\n",
        "[4, 5, 6]\n",
        "Since we selected 1, we are left with the second array:\n",
        "[4, 5, 6]\n",
        "\n",
        "The third number represents the third dimension, which contains three values:\n",
        "4\n",
        "5\n",
        "6\n",
        "Since we selected 2, we end up with the third value:\n",
        "6"
      ]
    },
    {
      "cell_type": "markdown",
      "metadata": {
        "id": "8WD34Cexlx2X"
      },
      "source": [
        "### Numpy Array Slicing"
      ]
    },
    {
      "cell_type": "code",
      "execution_count": null,
      "metadata": {
        "id": "kbvkE3Eklx2X",
        "outputId": "629dddf7-39f1-424b-9cee-96ed1a7f3fe7"
      },
      "outputs": [
        {
          "name": "stdout",
          "output_type": "stream",
          "text": [
            "[2 3 4 5]\n",
            "[5 6 7]\n",
            "[2 4]\n"
          ]
        }
      ],
      "source": [
        "#Numpy Array Slicing is same as that of list slicing that we studied earlier\n",
        "\n",
        "import numpy as np\n",
        "\n",
        "arr = np.array([1, 2, 3, 4, 5, 6, 7])\n",
        "\n",
        "print(arr[1:5])\n",
        "\n",
        "\n",
        "\n",
        "import numpy as np\n",
        "\n",
        "arr = np.array([1, 2, 3, 4, 5, 6, 7])\n",
        "\n",
        "print(arr[4:])\n",
        "\n",
        "\n",
        "import numpy as np\n",
        "\n",
        "arr = np.array([1, 2, 3, 4, 5, 6, 7])\n",
        "\n",
        "print(arr[1:5:2])"
      ]
    },
    {
      "cell_type": "markdown",
      "metadata": {
        "id": "JQ_QHgWJlx2X"
      },
      "source": [
        "### Checking data type of array"
      ]
    },
    {
      "cell_type": "code",
      "execution_count": null,
      "metadata": {
        "id": "CL9c0Evdlx2X",
        "outputId": "293a2109-9915-4987-e098-a5cf804bfb2b"
      },
      "outputs": [
        {
          "name": "stdout",
          "output_type": "stream",
          "text": [
            "int32\n"
          ]
        }
      ],
      "source": [
        "# For this, we have a command dtype\n",
        "\n",
        "import numpy as np\n",
        "\n",
        "arr = np.array([1, 2, 3, 4])\n",
        "\n",
        "print(arr.dtype)"
      ]
    },
    {
      "cell_type": "code",
      "execution_count": null,
      "metadata": {
        "id": "ueBrPGdOlx2b",
        "outputId": "e0a50fdd-bec7-49fa-ce18-1f1b52c3aaf0"
      },
      "outputs": [
        {
          "name": "stdout",
          "output_type": "stream",
          "text": [
            "[1 2 3 4]\n",
            "int32\n"
          ]
        }
      ],
      "source": [
        "#creating an array with dataType 4 byte integer\n",
        "\n",
        "import numpy as np\n",
        "\n",
        "arr = np.array([1, 2, 3, 4], dtype='i4')\n",
        "\n",
        "print(arr)\n",
        "print(arr.dtype)"
      ]
    },
    {
      "cell_type": "markdown",
      "metadata": {
        "id": "KEGIJUMQlx2b"
      },
      "source": [
        "### Array Shape and Reshape"
      ]
    },
    {
      "cell_type": "markdown",
      "metadata": {
        "id": "kG3w5QNVlx2b"
      },
      "source": [
        "The Shape of an array is the number of elements in each dimension.\n",
        "\n",
        "Reshape means changing shape of array"
      ]
    },
    {
      "cell_type": "code",
      "execution_count": null,
      "metadata": {
        "id": "z4tBMrJ5lx2b",
        "outputId": "1c5682c0-924f-4736-f353-5b366d643fa8"
      },
      "outputs": [
        {
          "name": "stdout",
          "output_type": "stream",
          "text": [
            "(2, 4)\n"
          ]
        }
      ],
      "source": [
        "# get shape of array\n",
        "\n",
        "import numpy as np\n",
        "\n",
        "arr = np.array([[1, 2, 3, 4], [5, 6, 7, 8]])\n",
        "\n",
        "print(arr.shape)"
      ]
    },
    {
      "cell_type": "markdown",
      "metadata": {
        "id": "kXRfZvKDlx2b"
      },
      "source": [
        "The example above returns (2, 4), which means that the array has 2 dimensions, and each dimension has 4 elements."
      ]
    },
    {
      "cell_type": "code",
      "execution_count": null,
      "metadata": {
        "id": "NulHhrrWlx2b",
        "outputId": "d9565b42-c761-4c29-839a-da885a0b3828",
        "colab": {
          "base_uri": "https://localhost:8080/"
        }
      },
      "outputs": [
        {
          "output_type": "stream",
          "name": "stdout",
          "text": [
            "[[ 1  2  3  4]\n",
            " [ 5  6  7  8]\n",
            " [ 9 10 11 12]]\n"
          ]
        }
      ],
      "source": [
        "# reshaping 1D to 2D array\n",
        "\n",
        "import numpy as np\n",
        "\n",
        "arr = np.array([1, 2, 3, 4, 5, 6, 7, 8, 9, 10, 11, 12])\n",
        "\n",
        "newarr = arr.reshape(3, 4)\n",
        "\n",
        "print(newarr)"
      ]
    },
    {
      "cell_type": "code",
      "execution_count": null,
      "metadata": {
        "id": "is1Jeq1Flx2c",
        "outputId": "dd18748b-52d7-494f-91b4-c353a73bb619"
      },
      "outputs": [
        {
          "name": "stdout",
          "output_type": "stream",
          "text": [
            "[[[ 1  2]\n",
            "  [ 3  4]\n",
            "  [ 5  6]]\n",
            "\n",
            " [[ 7  8]\n",
            "  [ 9 10]\n",
            "  [11 12]]]\n"
          ]
        }
      ],
      "source": [
        "# reshaping from 1D to 3D\n",
        "\n",
        "import numpy as np\n",
        "\n",
        "arr = np.array([1, 2, 3, 4, 5, 6, 7, 8, 9, 10, 11, 12])\n",
        "\n",
        "newarr = arr.reshape(2, 3, 2)\n",
        "\n",
        "print(newarr)\n"
      ]
    },
    {
      "cell_type": "markdown",
      "metadata": {
        "id": "jBKmvuG9lx2c"
      },
      "source": [
        "### Iterating Arrays"
      ]
    },
    {
      "cell_type": "code",
      "execution_count": null,
      "metadata": {
        "id": "KcuEB2Dglx2c",
        "outputId": "54422fc5-1e49-4a94-ebf7-1fd53fcf4997"
      },
      "outputs": [
        {
          "name": "stdout",
          "output_type": "stream",
          "text": [
            "1\n",
            "2\n",
            "3\n"
          ]
        }
      ],
      "source": [
        "#itrating 1D array\n",
        "\n",
        "import numpy as np\n",
        "\n",
        "arr = np.array([1, 2, 3])\n",
        "\n",
        "for x in arr:\n",
        "  print(x)"
      ]
    },
    {
      "cell_type": "code",
      "execution_count": null,
      "metadata": {
        "id": "vKgQ3lprlx2c",
        "outputId": "1b928828-6e4b-42bb-ed1e-662350093d05"
      },
      "outputs": [
        {
          "name": "stdout",
          "output_type": "stream",
          "text": [
            "[1 2 3]\n",
            "[4 5 6]\n"
          ]
        }
      ],
      "source": [
        "#itrating 2D array\n",
        "\n",
        "import numpy as np\n",
        "\n",
        "arr = np.array([[1, 2, 3], [4, 5, 6]])\n",
        "\n",
        "for x in arr:\n",
        "  print(x)"
      ]
    },
    {
      "cell_type": "code",
      "execution_count": null,
      "metadata": {
        "id": "5mmBHy0Vlx2c",
        "outputId": "57b0833c-662f-40bd-9a40-0dba5dd79a57"
      },
      "outputs": [
        {
          "name": "stdout",
          "output_type": "stream",
          "text": [
            "1\n",
            "2\n",
            "3\n",
            "4\n",
            "5\n",
            "6\n"
          ]
        }
      ],
      "source": [
        "#in above example, it is not iterating each individual element. For that, we need to use nested for loops\n",
        "import numpy as np\n",
        "\n",
        "arr = np.array([[1, 2, 3], [4, 5, 6]])\n",
        "\n",
        "for x in arr:\n",
        "  for y in x:\n",
        "    print(y)"
      ]
    },
    {
      "cell_type": "markdown",
      "metadata": {
        "id": "yCgfo2cflx2c"
      },
      "source": [
        "### Iterating Arrays Using nditer()"
      ]
    },
    {
      "cell_type": "markdown",
      "metadata": {
        "id": "iSmYMnLYlx2c"
      },
      "source": [
        "In above example, iterating through each number of an array we need to use n for loops which can be difficult to write for arrays with very high dimensionality. nditor() solves this problem"
      ]
    },
    {
      "cell_type": "code",
      "execution_count": null,
      "metadata": {
        "id": "X2GKagDllx2d",
        "outputId": "19fcfffc-94d9-4393-800f-e68a4578ceed"
      },
      "outputs": [
        {
          "name": "stdout",
          "output_type": "stream",
          "text": [
            "1\n",
            "2\n",
            "3\n",
            "4\n",
            "5\n",
            "6\n",
            "7\n",
            "8\n"
          ]
        }
      ],
      "source": [
        "import numpy as np\n",
        "\n",
        "arr = np.array([[[1, 2], [3, 4]], [[5, 6], [7, 8]]])\n",
        "\n",
        "for x in np.nditer(arr):\n",
        "  print(x)"
      ]
    },
    {
      "cell_type": "markdown",
      "metadata": {
        "id": "DMhdzd8vlx2d"
      },
      "source": [
        "### Numpy Array Join\n",
        "\n"
      ]
    },
    {
      "cell_type": "markdown",
      "metadata": {
        "id": "pXdhwMnmlx2d"
      },
      "source": [
        "Joining means putting contents of two or more arrays in a single array."
      ]
    },
    {
      "cell_type": "code",
      "execution_count": null,
      "metadata": {
        "id": "2FwDOzNwlx2d",
        "outputId": "fce05e02-7ea3-4bfc-cf3e-b5278748f702"
      },
      "outputs": [
        {
          "name": "stdout",
          "output_type": "stream",
          "text": [
            "[1 2 3 4 5 6]\n"
          ]
        }
      ],
      "source": [
        "import numpy as np\n",
        "\n",
        "arr1 = np.array([1, 2, 3])\n",
        "\n",
        "arr2 = np.array([4, 5, 6])\n",
        "\n",
        "arr = np.concatenate((arr1, arr2))\n",
        "\n",
        "print(arr)"
      ]
    },
    {
      "cell_type": "code",
      "execution_count": null,
      "metadata": {
        "id": "98P_-oRXlx2d",
        "outputId": "4b3ba397-813c-44d9-aadb-555337342a49"
      },
      "outputs": [
        {
          "name": "stdout",
          "output_type": "stream",
          "text": [
            "[[1 2 5 6]\n",
            " [3 4 7 8]]\n"
          ]
        }
      ],
      "source": [
        "# joining with axis=1\n",
        "\n",
        "import numpy as np\n",
        "\n",
        "arr1 = np.array([[1, 2], [3, 4]])\n",
        "\n",
        "arr2 = np.array([[5, 6], [7, 8]])\n",
        "\n",
        "arr = np.concatenate((arr1, arr2), axis=1)\n",
        "\n",
        "print(arr)"
      ]
    },
    {
      "cell_type": "markdown",
      "metadata": {
        "id": "ytYusFa1lx2d"
      },
      "source": [
        "### Joining Arrays using Stacking\n",
        "\n",
        "Stacking is same as concatenation, the only difference is that stacking is done along a new axis.\n",
        "\n",
        "We can concatenate two 1-D arrays along the second axis which would result in putting them one over the other, ie. stacking.\n",
        "\n",
        "We pass a sequence of arrays that we want to join to the stack() method along with the axis. If axis is not explicitly passed it is taken as 0."
      ]
    },
    {
      "cell_type": "code",
      "execution_count": null,
      "metadata": {
        "id": "tig4_0P5lx2d",
        "outputId": "e95d2c10-8b12-4794-d4e3-eb66a6de6a61"
      },
      "outputs": [
        {
          "name": "stdout",
          "output_type": "stream",
          "text": [
            "[[1 4]\n",
            " [2 5]\n",
            " [3 6]]\n"
          ]
        }
      ],
      "source": [
        "import numpy as np\n",
        "\n",
        "arr1 = np.array([1, 2, 3])\n",
        "\n",
        "arr2 = np.array([4, 5, 6])\n",
        "\n",
        "arr = np.stack((arr1, arr2), axis=1)\n",
        "\n",
        "print(arr)"
      ]
    },
    {
      "cell_type": "code",
      "execution_count": null,
      "metadata": {
        "id": "eY_RcotWlx2d",
        "outputId": "df8fe07b-fbc8-46a2-a29d-0957d2cc46a7"
      },
      "outputs": [
        {
          "name": "stdout",
          "output_type": "stream",
          "text": [
            "[1 2 3 4 5 6]\n"
          ]
        }
      ],
      "source": [
        "# stacking along rows using hstack\n",
        "\n",
        "import numpy as np\n",
        "\n",
        "arr1 = np.array([1, 2, 3])\n",
        "\n",
        "arr2 = np.array([4, 5, 6])\n",
        "\n",
        "arr = np.hstack((arr1, arr2))\n",
        "\n",
        "print(arr)"
      ]
    },
    {
      "cell_type": "code",
      "execution_count": null,
      "metadata": {
        "id": "1b1FGfmwlx2e",
        "outputId": "633bfdf3-bb65-47f9-b95d-9f333b0930b6"
      },
      "outputs": [
        {
          "name": "stdout",
          "output_type": "stream",
          "text": [
            "[[1 2 3]\n",
            " [4 5 6]]\n"
          ]
        }
      ],
      "source": [
        "#stacking along rows using vstack\n",
        "\n",
        "import numpy as np\n",
        "\n",
        "arr1 = np.array([1, 2, 3])\n",
        "\n",
        "arr2 = np.array([4, 5, 6])\n",
        "\n",
        "arr = np.vstack((arr1, arr2))\n",
        "\n",
        "print(arr)"
      ]
    },
    {
      "cell_type": "code",
      "execution_count": null,
      "metadata": {
        "id": "x7xjWMSzlx2e",
        "outputId": "b74a5ddb-af55-4d4d-c5f4-0ff7a69363c5"
      },
      "outputs": [
        {
          "name": "stdout",
          "output_type": "stream",
          "text": [
            "[[[1 4]\n",
            "  [2 5]\n",
            "  [3 6]]]\n"
          ]
        }
      ],
      "source": [
        "## stack along the height using dstack\n",
        "\n",
        "import numpy as np\n",
        "\n",
        "arr1 = np.array([1, 2, 3])\n",
        "\n",
        "arr2 = np.array([4, 5, 6])\n",
        "\n",
        "arr = np.dstack((arr1, arr2))\n",
        "\n",
        "print(arr)"
      ]
    },
    {
      "cell_type": "markdown",
      "metadata": {
        "id": "qGpYjELdlx2e"
      },
      "source": [
        "### Array Splitting\n",
        "Splitting is reverse operation of Joining.\n",
        "\n",
        "Joining merges multiple arrays into one and Splitting breaks one array into multiple.\n",
        "\n",
        "We use array_split() for splitting arrays, we pass it the array we want to split and the number of splits."
      ]
    },
    {
      "cell_type": "code",
      "execution_count": null,
      "metadata": {
        "id": "BcPVW5e1lx2e",
        "outputId": "10955374-f878-48bb-8638-2c3fc9ca0d01"
      },
      "outputs": [
        {
          "name": "stdout",
          "output_type": "stream",
          "text": [
            "[array([1, 2]), array([3, 4]), array([5, 6])]\n"
          ]
        }
      ],
      "source": [
        "import numpy as np\n",
        "\n",
        "arr = np.array([1, 2, 3, 4, 5, 6])\n",
        "\n",
        "newarr = np.array_split(arr, 3)\n",
        "\n",
        "print(newarr)"
      ]
    },
    {
      "cell_type": "markdown",
      "metadata": {
        "id": "mPcle-L-lx2e"
      },
      "source": [
        "### Searching Arrays\n",
        "\n",
        "You can search an array for a certain value, and return the indexes that get a match.\n",
        "\n",
        "To search an array, use the where() method"
      ]
    },
    {
      "cell_type": "code",
      "execution_count": null,
      "metadata": {
        "id": "EiglNit3lx2e",
        "outputId": "fd6f5bc0-e383-461f-813f-882b2ef22445"
      },
      "outputs": [
        {
          "name": "stdout",
          "output_type": "stream",
          "text": [
            "(array([3, 5, 6], dtype=int64),)\n"
          ]
        }
      ],
      "source": [
        "# find index where value=4\n",
        "\n",
        "import numpy as np\n",
        "\n",
        "arr = np.array([1, 2, 3, 4, 5, 4, 4])\n",
        "\n",
        "x = np.where(arr == 4)\n",
        "\n",
        "print(x)"
      ]
    },
    {
      "cell_type": "code",
      "execution_count": null,
      "metadata": {
        "id": "oc1jmjGulx2e",
        "outputId": "e3a7663d-20d6-4916-9160-80e19ff2f058"
      },
      "outputs": [
        {
          "name": "stdout",
          "output_type": "stream",
          "text": [
            "(array([1, 3, 5, 7], dtype=int64),)\n"
          ]
        }
      ],
      "source": [
        "import numpy as np\n",
        "\n",
        "arr = np.array([1, 2, 3, 4, 5, 6, 7, 8])\n",
        "\n",
        "x = np.where(arr%2 == 0)\n",
        "\n",
        "print(x)"
      ]
    },
    {
      "cell_type": "markdown",
      "metadata": {
        "id": "0ier15uDlx2f"
      },
      "source": [
        "There is a method called <b>searchsorted()</b> which performs a binary search in the array, and returns the index where the specified value would be inserted to maintain the search order."
      ]
    },
    {
      "cell_type": "code",
      "execution_count": null,
      "metadata": {
        "id": "vLyE3emVlx2f",
        "outputId": "5cc648d1-a3d9-4b45-a1e2-f2a285383e25"
      },
      "outputs": [
        {
          "name": "stdout",
          "output_type": "stream",
          "text": [
            "4\n"
          ]
        }
      ],
      "source": [
        "# find index where value 10 should be inserted\n",
        "\n",
        "import numpy as np\n",
        "\n",
        "arr = np.array([6, 7, 8, 9])\n",
        "\n",
        "x = np.searchsorted(arr, 10)\n",
        "\n",
        "print(x)"
      ]
    },
    {
      "cell_type": "code",
      "execution_count": null,
      "metadata": {
        "id": "3Kide3uSlx2f"
      },
      "outputs": [],
      "source": []
    },
    {
      "cell_type": "markdown",
      "metadata": {
        "id": "3VNfmV1alx2f"
      },
      "source": [
        "### Sorting Arrays\n",
        "\n",
        "Sorting means putting elements in an ordered sequence.\n",
        "\n",
        "Ordered sequence is any sequence that has an order corresponding to elements, like numeric or alphabetical, ascending or descending.\n",
        "\n",
        "The NumPy ndarray object has a function called sort(), that will sort a specified array."
      ]
    },
    {
      "cell_type": "code",
      "execution_count": null,
      "metadata": {
        "id": "YjIDNm7_lx2f",
        "outputId": "1cccc8b1-7a01-4828-d6b2-ab449fcbb35d"
      },
      "outputs": [
        {
          "name": "stdout",
          "output_type": "stream",
          "text": [
            "[0 1 2 3]\n"
          ]
        }
      ],
      "source": [
        "import numpy as np\n",
        "\n",
        "arr = np.array([3, 2, 0, 1])\n",
        "\n",
        "print(np.sort(arr))"
      ]
    },
    {
      "cell_type": "code",
      "execution_count": null,
      "metadata": {
        "id": "RB8lscDElx2f",
        "outputId": "76e6f43c-8e69-408a-8718-8cd50df631b4"
      },
      "outputs": [
        {
          "name": "stdout",
          "output_type": "stream",
          "text": [
            "['apple' 'banana' 'cherry']\n"
          ]
        }
      ],
      "source": [
        "#sorts alphabetically\n",
        "import numpy as np\n",
        "\n",
        "arr = np.array(['banana', 'cherry', 'apple'])\n",
        "\n",
        "print(np.sort(arr))"
      ]
    },
    {
      "cell_type": "code",
      "execution_count": null,
      "metadata": {
        "id": "WTfvoxI5lx2f",
        "outputId": "f753a809-32e6-458f-db99-151175f394a9"
      },
      "outputs": [
        {
          "name": "stdout",
          "output_type": "stream",
          "text": [
            "[[2 3 4]\n",
            " [0 1 5]]\n"
          ]
        }
      ],
      "source": [
        "#sorting 2D array\n",
        "\n",
        "import numpy as np\n",
        "\n",
        "arr = np.array([[3, 2, 4], [5, 0, 1]])\n",
        "\n",
        "print(np.sort(arr))"
      ]
    },
    {
      "cell_type": "code",
      "execution_count": null,
      "metadata": {
        "id": "wvetXCh8lx2g",
        "outputId": "714bfc96-811b-452b-dc3e-0802b7e7647a"
      },
      "outputs": [
        {
          "name": "stdout",
          "output_type": "stream",
          "text": [
            "Original array:\n",
            "[(b'James', 5, 48.5 ) (b'Nail', 6, 52.5 ) (b'Paul', 5, 42.1 )\n",
            " (b'Pit', 5, 40.11)]\n",
            "Sort by height\n",
            "[(b'Pit', 5, 40.11) (b'Paul', 5, 42.1 ) (b'James', 5, 48.5 )\n",
            " (b'Nail', 6, 52.5 )]\n"
          ]
        }
      ],
      "source": [
        "# creating a structured array and sorting based on height\n",
        "\n",
        "import numpy as np\n",
        "data_type = [('name', 'S15'), ('class', int), ('height', float)]   # where S15 is actually string data type\n",
        "students_details = [('James', 5, 48.5), ('Nail', 6, 52.5),('Paul', 5, 42.10), ('Pit', 5, 40.11)]\n",
        "# create a structured array\n",
        "students = np.array(students_details, dtype=data_type)\n",
        "print(\"Original array:\")\n",
        "print(students)\n",
        "print(\"Sort by height\")\n",
        "print(np.sort(students, order='height'))"
      ]
    },
    {
      "cell_type": "markdown",
      "metadata": {
        "id": "E4gdbhjMlx2g"
      },
      "source": [
        "# Python Numpy Operations\n",
        "### Basic arithmetic"
      ]
    },
    {
      "cell_type": "code",
      "execution_count": null,
      "metadata": {
        "id": "ETJvsfQVlx2g",
        "outputId": "9624f252-c157-4c49-f1b1-921e96295b5a"
      },
      "outputs": [
        {
          "name": "stdout",
          "output_type": "stream",
          "text": [
            "[13 36 17]\n",
            "[13 36 17]\n",
            "[ 7 28  7]\n",
            "[ 7 28  7]\n",
            "[ 30 128  60]\n",
            "[ 30 128  60]\n",
            "[3.33333333 8.         2.4       ]\n",
            "[3.33333333 8.         2.4       ]\n",
            "[1 0 2]\n",
            "[1 0 2]\n",
            "(array([3, 8, 2], dtype=int32), array([1, 0, 2], dtype=int32))\n"
          ]
        }
      ],
      "source": [
        "#BASIC ARITHMETIC\n",
        "\n",
        "a = np.array([10,32,12])\n",
        "b = np.array([3,4,5])\n",
        "\n",
        "\n",
        "print(a+b)\n",
        "# or\n",
        "print(np.add(a,b))\n",
        "\n",
        "\n",
        "print(a-b)\n",
        "# or\n",
        "print(np.subtract(a,b))\n",
        "\n",
        "\n",
        "print(a*b)\n",
        "# or\n",
        "print(np.multiply(a,b))\n",
        "\n",
        "\n",
        "print(a/b)\n",
        "# or\n",
        "print(np.divide(a,b))\n",
        "\n",
        "\n",
        "print(np.mod(a,b)) # it returns remainder after dividing a by b\n",
        "# or\n",
        "print(np.remainder(a, b))\n",
        "\n",
        "\n",
        "print(np.divmod(a, b))  #it returns quotient and remainder both\n",
        "\n"
      ]
    },
    {
      "cell_type": "code",
      "execution_count": null,
      "metadata": {
        "id": "yL6rIHcplx2g",
        "outputId": "1478e86d-72c5-41ad-8e98-c1282d25664b"
      },
      "outputs": [
        {
          "name": "stdout",
          "output_type": "stream",
          "text": [
            "10\n",
            "[4 6]\n",
            "[2 4 4]\n"
          ]
        }
      ],
      "source": [
        "#BASIC ARITHMETIC\n",
        "#Summation\n",
        "\n",
        "import numpy as np\n",
        "\n",
        "arr1 = np.array([1, 1, 2])\n",
        "arr2 = np.array([1, 3, 2])\n",
        "\n",
        "total_sum = np.sum([arr1,arr2])             # overall sum of all elements in array1 and array2\n",
        "print(total_sum)\n",
        "\n",
        "first_arr = np.sum([arr1, arr2], axis=1)    # if axis = 0 means sum across each indidual array\n",
        "second_arr = np.sum([arr1, arr2], axis=0)   # if axis =1 means adding first element of both array then second and so on\n",
        "print(first_arr)\n",
        "print(second_arr)\n",
        "\n",
        "\n",
        "\n"
      ]
    },
    {
      "cell_type": "code",
      "execution_count": null,
      "metadata": {
        "id": "ksbHFzBplx2g",
        "outputId": "d5f215ec-4ed8-4295-a6fa-2775d1c8fb0e"
      },
      "outputs": [
        {
          "name": "stdout",
          "output_type": "stream",
          "text": [
            "6\n",
            "[2 3]\n",
            "[1 3 2]\n"
          ]
        }
      ],
      "source": [
        "#BASIC ARITHMETIC\n",
        "#Product\n",
        "\n",
        "import numpy as np\n",
        "\n",
        "arr1 = np.array([1, 1, 2])\n",
        "arr2 = np.array([1, 3, 1])\n",
        "\n",
        "total_prod = np.product([arr1,arr2])             # overall product of all elements in array1 and array2\n",
        "print(total_prod)\n",
        "\n",
        "first_arr = np.product([arr1, arr2], axis=1)    # if axis = 0 means product across each indidual array\n",
        "second_arr = np.product([arr1, arr2], axis=0)   # if axis =1 means multiply first element of both array then second and so on\n",
        "print(first_arr)\n",
        "print(second_arr)"
      ]
    },
    {
      "cell_type": "code",
      "execution_count": null,
      "metadata": {
        "id": "GxATJbamlx2g",
        "outputId": "45cb1a16-87a0-439a-f846-c07af0d29d0c"
      },
      "outputs": [
        {
          "name": "stdout",
          "output_type": "stream",
          "text": [
            "12\n",
            "------------------------------\n",
            "18\n"
          ]
        }
      ],
      "source": [
        "#BASIC ARITHMETIC\n",
        "# lCM (least common multiple)\n",
        "\n",
        "import numpy as np\n",
        "\n",
        "num1 = 4\n",
        "num2 = 6\n",
        "\n",
        "x = np.lcm(num1, num2)\n",
        "\n",
        "print(x)\n",
        "\n",
        "print(\"------------------------------\")\n",
        "\n",
        "# LCM of array\n",
        "import numpy as np\n",
        "\n",
        "arr = np.array([3, 6, 9])\n",
        "\n",
        "x = np.lcm.reduce(arr)\n",
        "\n",
        "print(x)"
      ]
    },
    {
      "cell_type": "code",
      "execution_count": null,
      "metadata": {
        "id": "uojnlvmIlx2h",
        "outputId": "a90dc68b-65d4-4fda-c1f6-a04c6a963761"
      },
      "outputs": [
        {
          "name": "stdout",
          "output_type": "stream",
          "text": [
            "3\n",
            "------------------------------\n",
            "4\n"
          ]
        }
      ],
      "source": [
        "#BASIC ARITHMETIC\n",
        "# Find GCD(greatest common divisor) or HCF(Highest common factor) using numpy arrays\n",
        "import numpy as np\n",
        "\n",
        "num1 = 6\n",
        "num2 = 9\n",
        "\n",
        "x = np.gcd(num1, num2)\n",
        "\n",
        "print(x)\n",
        "\n",
        "print(\"------------------------------\")\n",
        "\n",
        "import numpy as np\n",
        "\n",
        "arr = np.array([20, 8, 32, 36, 16])\n",
        "\n",
        "x = np.gcd.reduce(arr)\n",
        "\n",
        "print(x)\n"
      ]
    },
    {
      "cell_type": "code",
      "execution_count": null,
      "metadata": {
        "id": "gBruaAislx2h",
        "outputId": "42b0af55-c1f3-4ebd-b3d1-21f46c9e45a6"
      },
      "outputs": [
        {
          "name": "stdout",
          "output_type": "stream",
          "text": [
            "original matrix:\n",
            "[[1, 0], [0, 1]]\n",
            "[[1, 2], [3, 4]]\n",
            "cross product of the said two vectors(p, q):\n",
            "[ 2 -3]\n",
            "cross product of the said two vectors(q, p):\n",
            "[-2  3]\n"
          ]
        }
      ],
      "source": [
        "#Linear algebra\n",
        "# to compute cross product of two matrices\n",
        "\n",
        "import numpy as np\n",
        "p = [[1, 0], [0, 1]]\n",
        "q = [[1, 2], [3, 4]]\n",
        "print(\"original matrix:\")\n",
        "print(p)\n",
        "print(q)\n",
        "result1 = np.cross(p, q)\n",
        "result2 = np.cross(q, p)\n",
        "print(\"cross product of the said two vectors(p, q):\")\n",
        "print(result1)\n",
        "print(\"cross product of the said two vectors(q, p):\")\n",
        "print(result2)"
      ]
    },
    {
      "cell_type": "code",
      "execution_count": null,
      "metadata": {
        "id": "zYEODPIHlx2h",
        "outputId": "e1ce2dc0-2ea0-431d-b9c2-df2cd5d84058"
      },
      "outputs": [
        {
          "name": "stdout",
          "output_type": "stream",
          "text": [
            "original matrix:\n",
            "[[1, 0], [0, 1]]\n",
            "[[1, 2], [3, 4]]\n",
            "dot product\n",
            " [[1 2]\n",
            " [3 4]]\n"
          ]
        }
      ],
      "source": [
        "#Linear algebra\n",
        "# to compute dot product\n",
        "\n",
        "import numpy as np\n",
        "p = [[1, 0], [0, 1]]\n",
        "q = [[1, 2], [3, 4]]\n",
        "print(\"original matrix:\")\n",
        "print(p)\n",
        "print(q)\n",
        "result1 = np.dot(p, q)\n",
        "print(\"dot product\\n\",result1)"
      ]
    },
    {
      "cell_type": "code",
      "execution_count": null,
      "metadata": {
        "id": "Jiw66KXslx2h",
        "outputId": "070c7151-7d57-45f3-f3ac-f3db4a73d43a"
      },
      "outputs": [
        {
          "name": "stdout",
          "output_type": "stream",
          "text": [
            "[[1 2 3]\n",
            " [4 5 6]]\n",
            "[[1 4]\n",
            " [2 5]\n",
            " [3 6]]\n"
          ]
        }
      ],
      "source": [
        "# to calculate transpose of a matrix\n",
        "\n",
        "import numpy as np\n",
        "\n",
        "arr1 = np.array([[1, 2, 3], [4, 5, 6]])\n",
        "\n",
        "print(arr1)\n",
        "\n",
        "arr1_transpose = arr1.transpose()\n",
        "\n",
        "print(arr1_transpose)"
      ]
    },
    {
      "cell_type": "code",
      "execution_count": null,
      "metadata": {
        "id": "ZWt1ZDgNlx2h",
        "outputId": "7bc8ef78-cced-44c4-a9b3-30031e13dde8"
      },
      "outputs": [
        {
          "name": "stdout",
          "output_type": "stream",
          "text": [
            "Original 2-d array\n",
            "[[1 1]\n",
            " [1 2]]\n",
            "Determinant of the said 2-D array:\n",
            "1.0\n"
          ]
        }
      ],
      "source": [
        "#Linear algebra\n",
        "# to compute determinant of square matrix\n",
        "\n",
        "import numpy as np\n",
        "from numpy import linalg as LA\n",
        "a = np.array([[1, 1], [1, 2]])\n",
        "print(\"Original 2-d array\")\n",
        "print(a)\n",
        "print(\"Determinant of the said 2-D array:\")\n",
        "print(np.linalg.det(a))"
      ]
    },
    {
      "cell_type": "code",
      "execution_count": null,
      "metadata": {
        "id": "yN0hJV2rlx2h",
        "outputId": "eaccfa30-c923-4f57-cea5-b288e8ae706d"
      },
      "outputs": [
        {
          "name": "stdout",
          "output_type": "stream",
          "text": [
            "Original matrix:\n",
            "a\n",
            " [[ 3 -2]\n",
            " [ 1  0]]\n",
            "Eigenvalues of the said matrix [2. 1.]\n",
            "Eigenvectors of the said matrix [[0.89442719 0.70710678]\n",
            " [0.4472136  0.70710678]]\n"
          ]
        }
      ],
      "source": [
        "#Linear algebra\n",
        "# how to print eigen values and eigen vectors\n",
        "# np.mat can also be used to generate matrix\n",
        "\n",
        "import numpy as np\n",
        "m = np.mat(\"3 -2;1 0\")\n",
        "print(\"Original matrix:\")\n",
        "print(\"a\\n\", m)\n",
        "w, v = np.linalg.eig(m)\n",
        "print( \"Eigenvalues of the said matrix\",w)\n",
        "print( \"Eigenvectors of the said matrix\",v)"
      ]
    },
    {
      "cell_type": "code",
      "execution_count": null,
      "metadata": {
        "id": "hw9RUsPYlx2h",
        "outputId": "85a80470-224a-4735-b581-378b1ddfb6c6"
      },
      "outputs": [
        {
          "name": "stdout",
          "output_type": "stream",
          "text": [
            "[[ 0.17647059 -0.00326797 -0.02287582]\n",
            " [ 0.05882353 -0.13071895  0.08496732]\n",
            " [-0.11764706  0.1503268   0.05228758]]\n"
          ]
        }
      ],
      "source": [
        "# Linear algebra\n",
        "# calculating inverse of a matrix\n",
        "\n",
        "\n",
        "# Python program to inverse\n",
        "# a matrix using numpy\n",
        "\n",
        "# Import required package\n",
        "import numpy as np\n",
        "\n",
        "# Taking a 3 * 3 matrix\n",
        "A = np.array([[6, 1, 1],\n",
        "              [4, -2, 5],\n",
        "              [2, 8, 7]])\n",
        "\n",
        "# Calculating the inverse of the matrix\n",
        "print(np.linalg.inv(A))"
      ]
    },
    {
      "cell_type": "markdown",
      "metadata": {
        "id": "Ea2nEs8klx2i"
      },
      "source": [
        "Similarly lot of other operations like trigonometric, hyperbolic and logs can also be calculated using numpy"
      ]
    },
    {
      "cell_type": "markdown",
      "metadata": {
        "id": "IcaeA9c6lx2i"
      },
      "source": [
        "### Statistics"
      ]
    },
    {
      "cell_type": "code",
      "execution_count": null,
      "metadata": {
        "id": "SHhlrBv7lx2i",
        "outputId": "6fc1585f-10e8-472b-881a-e395df568fa5"
      },
      "outputs": [
        {
          "name": "stdout",
          "output_type": "stream",
          "text": [
            "4.5\n",
            "4.5\n",
            "1.8027756377319946\n",
            "3.25\n",
            "2\n",
            "7\n",
            "4.5\n"
          ]
        }
      ],
      "source": [
        "# this will print mean, median, standard deviation, variance, min, max and average\n",
        "a = np.array([[7, 2], [5, 4]])\n",
        "\n",
        "print(np.mean(a))\n",
        "print(np.median(a))\n",
        "print(np.std(a))\n",
        "print(np.var(a))\n",
        "print(np.min(a))\n",
        "print(np.max(a))\n",
        "print(np.average(a))"
      ]
    },
    {
      "cell_type": "code",
      "execution_count": null,
      "metadata": {
        "id": "9NIHZQjTlx2i",
        "outputId": "9baa7470-56f5-42b3-9d71-2696075f1f53"
      },
      "outputs": [
        {
          "name": "stdout",
          "output_type": "stream",
          "text": [
            "\n",
            "Original array1:\n",
            "[0 1 2]\n",
            "\n",
            "Original array1:\n",
            "[2 1 0]\n",
            "\n",
            "Covariance matrix of the said arrays:\n",
            " [[ 1. -1.]\n",
            " [-1.  1.]]\n",
            "\n",
            "Correlation of the said arrays:\n",
            " [1]\n"
          ]
        }
      ],
      "source": [
        "# to cumpute covariance and correlation of two matrices\n",
        "\n",
        "import numpy as np\n",
        "x = np.array([0, 1, 2])\n",
        "y = np.array([2, 1, 0])\n",
        "print(\"\\nOriginal array1:\")\n",
        "print(x)\n",
        "print(\"\\nOriginal array1:\")\n",
        "print(y)\n",
        "print(\"\\nCovariance matrix of the said arrays:\\n\",np.cov(x, y))\n",
        "\n",
        "print(\"\\nCorrelation of the said arrays:\\n\",np.correlate(x,y))"
      ]
    },
    {
      "cell_type": "markdown",
      "metadata": {
        "id": "N4kHg8Q_lx2i"
      },
      "source": [
        "Numpy also has the funcionality to generate arrays with normal distribution, poisson distribution, multinomial distribution, logistic distribution etc etc."
      ]
    },
    {
      "cell_type": "markdown",
      "metadata": {
        "id": "j4mXZrhtlx2i"
      },
      "source": [
        "### Random Numbers"
      ]
    },
    {
      "cell_type": "code",
      "execution_count": null,
      "metadata": {
        "id": "Nc2knCsclx2j",
        "outputId": "60703c3d-22c0-4cb3-b0a2-b4fc8e471951"
      },
      "outputs": [
        {
          "name": "stdout",
          "output_type": "stream",
          "text": [
            "39\n"
          ]
        }
      ],
      "source": [
        "#it will generate random number from zero to 100\n",
        "\n",
        "from numpy import random\n",
        "\n",
        "x = random.randint(100)\n",
        "\n",
        "print(x)"
      ]
    },
    {
      "cell_type": "code",
      "execution_count": null,
      "metadata": {
        "id": "KB0nG-yxlx2j",
        "outputId": "241d466f-0c3e-4845-b9c7-b435e769ffc5"
      },
      "outputs": [
        {
          "name": "stdout",
          "output_type": "stream",
          "text": [
            "0.41265787353277905\n"
          ]
        }
      ],
      "source": [
        "# rand returns random numbers between 0 and 1\n",
        "\n",
        "from numpy import random\n",
        "\n",
        "x = random.rand()\n",
        "\n",
        "print(x)"
      ]
    },
    {
      "cell_type": "code",
      "execution_count": null,
      "metadata": {
        "id": "ztUmIofQlx2j",
        "outputId": "ecf0b8f0-156d-464b-99d2-f8b8b0f00aeb"
      },
      "outputs": [
        {
          "name": "stdout",
          "output_type": "stream",
          "text": [
            "[0.31406115 0.04945838 0.00748686 0.63218236 0.49340008]\n"
          ]
        }
      ],
      "source": [
        "# generate 5 random numbers using rand between 0 and 1\n",
        "\n",
        "from numpy import random\n",
        "\n",
        "x = random.rand(5)\n",
        "\n",
        "print(x)"
      ]
    },
    {
      "cell_type": "code",
      "execution_count": null,
      "metadata": {
        "id": "xFJL5wlblx2j",
        "outputId": "220dd7b4-1e9d-49b8-f8da-883494bd64bd"
      },
      "outputs": [
        {
          "name": "stdout",
          "output_type": "stream",
          "text": [
            "[87 43 45 20 57]\n"
          ]
        }
      ],
      "source": [
        "#generate random array of size 5 with elements between 0-100\n",
        "\n",
        "from numpy import random\n",
        "\n",
        "x=random.randint(100, size=(5))\n",
        "\n",
        "print(x)"
      ]
    },
    {
      "cell_type": "code",
      "execution_count": null,
      "metadata": {
        "id": "7tr2odDBlx2j",
        "outputId": "8d3a19eb-d22a-4efd-ab44-e2b63eab00ba"
      },
      "outputs": [
        {
          "name": "stdout",
          "output_type": "stream",
          "text": [
            "[[24 53 19  3 93]\n",
            " [43 31 65 42 95]\n",
            " [96 87 15 52 28]]\n"
          ]
        }
      ],
      "source": [
        "# generate random numbers in 3 rows and 5 columns. Each number between 0-100\n",
        "\n",
        "from numpy import random\n",
        "\n",
        "x = random.randint(100, size=(3, 5))\n",
        "\n",
        "print(x)"
      ]
    },
    {
      "cell_type": "code",
      "execution_count": null,
      "metadata": {
        "id": "icoxbY8jlx2j",
        "outputId": "6f0779d3-8701-4b3b-df7f-ea67f5d71560"
      },
      "outputs": [
        {
          "name": "stdout",
          "output_type": "stream",
          "text": [
            "3\n"
          ]
        }
      ],
      "source": [
        "#it will pick any number randomnly from this array\n",
        "\n",
        "from numpy import random\n",
        "\n",
        "x = random.choice([3, 5, 7, 9])\n",
        "\n",
        "print(x)"
      ]
    },
    {
      "cell_type": "code",
      "execution_count": null,
      "metadata": {
        "id": "5mMSkz37lx2k",
        "outputId": "5ba0b6c3-f46f-41d3-9aca-0df45d8f1aa3"
      },
      "outputs": [
        {
          "name": "stdout",
          "output_type": "stream",
          "text": [
            "[[3 9 5 3 3]\n",
            " [9 3 7 3 7]\n",
            " [5 3 7 5 5]]\n"
          ]
        }
      ],
      "source": [
        "#it will generate random numbers in 3 rows and 5 columns. Each random number will be one of the given numbers in array\n",
        "\n",
        "from numpy import random\n",
        "\n",
        "x = random.choice([3, 5, 7, 9], size=(3, 5))\n",
        "\n",
        "print(x)"
      ]
    },
    {
      "cell_type": "markdown",
      "metadata": {
        "id": "wUVQH9i2lx2k"
      },
      "source": [
        "<b>TASKS</b>"
      ]
    },
    {
      "cell_type": "markdown",
      "metadata": {
        "id": "yugZHSDtlx2k"
      },
      "source": [
        "<b>Q1)</b> Write a program to create numpy array or vector of all the even integers from 20 to 50 exluding 20 and 50.\n",
        "\n",
        "\n"
      ]
    },
    {
      "cell_type": "markdown",
      "metadata": {
        "id": "WgfqGJJKlx2k"
      },
      "source": [
        "<b>Q2)</b> Create a multi-dimensional array of 3 rows and 3 columns having odd numbers from 1 to 19 including 1 and excluding 19. After that, iterate over this array to print all elements"
      ]
    },
    {
      "cell_type": "markdown",
      "metadata": {
        "id": "h03kgZHHlx2k"
      },
      "source": [
        "<b>Q3)</b> Create 3x3 matrix containing only even numbers. Multiply each element of this array with 4 and then multiply resultant matrix with 3x3 identity matrix."
      ]
    },
    {
      "cell_type": "markdown",
      "metadata": {
        "id": "aTuor7h-lx2k"
      },
      "source": [
        "<b>Q4)</b> Write a NumPy program to create a structured array from given student name, height, class and their data types. Now sort by class, then height if class are equal.\n",
        "\n"
      ]
    },
    {
      "cell_type": "markdown",
      "metadata": {
        "id": "rzI87FKylx2k"
      },
      "source": [
        "<b>Q5)</b> Generate 4x4 matrix with random numbers only from (2,5,9,10) and then multiply this matrix with identity matrix. Finally add this matrix to any 4x4 matrix having only odd numbers."
      ]
    },
    {
      "cell_type": "markdown",
      "metadata": {
        "id": "_9HrhrYrlx2k"
      },
      "source": [
        "<b>Q6)</b> Read all examples from start to end of this jupyter notebook"
      ]
    }
  ],
  "metadata": {
    "kernelspec": {
      "display_name": "Python 3",
      "language": "python",
      "name": "python3"
    },
    "language_info": {
      "codemirror_mode": {
        "name": "ipython",
        "version": 3
      },
      "file_extension": ".py",
      "mimetype": "text/x-python",
      "name": "python",
      "nbconvert_exporter": "python",
      "pygments_lexer": "ipython3",
      "version": "3.8.5"
    },
    "colab": {
      "provenance": []
    }
  },
  "nbformat": 4,
  "nbformat_minor": 0
}